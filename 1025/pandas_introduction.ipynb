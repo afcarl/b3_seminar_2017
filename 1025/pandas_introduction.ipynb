{
 "cells": [
  {
   "cell_type": "markdown",
   "metadata": {},
   "source": [
    "# Pandas\n",
    "\n",
    "表形式のデータの扱いに特化したライブラリ"
   ]
  },
  {
   "cell_type": "code",
   "execution_count": null,
   "metadata": {
    "collapsed": true
   },
   "outputs": [],
   "source": [
    "from IPython.display import display\n",
    "import pandas as pd"
   ]
  },
  {
   "cell_type": "markdown",
   "metadata": {},
   "source": [
    "## データを読み込む\n",
    "\n",
    "今回はタイタニックデータセットと呼ばれるデータセットを使う。\n",
    "これは、タイタニック号の乗客の情報と、生存/死亡の関係がラベル付けされたデータ。\n",
    "\n",
    "この乗客の情報を元に生存/死亡の予測をし、その精度を競うコンペがKaggleのチュートリアルとして公開されている。\n",
    "[https://www.kaggle.com/c/titanic]()"
   ]
  },
  {
   "cell_type": "code",
   "execution_count": null,
   "metadata": {
    "scrolled": true
   },
   "outputs": [],
   "source": [
    "data = pd.read_csv('./titanic_train.csv')\n",
    "display(data)"
   ]
  },
  {
   "cell_type": "markdown",
   "metadata": {},
   "source": [
    "- この表形式のデータをDataFrameと呼ぶ。\n",
    "\n",
    "各列の意味([Kaggleのページ](https://www.kaggle.com/c/titanic/data)より)\n",
    "\n",
    "|名前|意味|\n",
    "|---|---|\n",
    "|PassengerId| 乗客番号。ユニークに振られている。|\n",
    "|Survived| 生存した場合1が入っている。 |\n",
    "|Pclass | 部屋の等級 |\n",
    "|Name| 名前 |\n",
    "|Sex| 性別 |\n",
    "|SibSp| 一緒に乗船した兄弟/姉妹/夫/妻の人数 |\n",
    "|Parch| 一緒に乗船した親/子の人数 |\n",
    "|Ticket| チケット番号|\n",
    "|Fare| 乗船料|\n",
    "|Cabin| 部屋番号|\n",
    "|Ember| 乗船地 C=Cherbourg, Q=Queenstown, S=Southampton|\n",
    "\n",
    "- 各サンプルにindexが自動的に振られている\n",
    "- 今回は **PassengerId** という列が有るので、コレをindexとして利用する"
   ]
  },
  {
   "cell_type": "code",
   "execution_count": null,
   "metadata": {
    "scrolled": false
   },
   "outputs": [],
   "source": [
    "data.index = data.PassengerId\n",
    "display(data[0:3])  # 多すぎるので最初の3件だけ表示\n",
    "print len(data)  # 総サンプル数"
   ]
  },
  {
   "cell_type": "markdown",
   "metadata": {},
   "source": [
    "## 統計量の算出"
   ]
  },
  {
   "cell_type": "markdown",
   "metadata": {},
   "source": [
    "### 乗船料の最大値, 最小値, 平均, 標準偏差を出してみる"
   ]
  },
  {
   "cell_type": "code",
   "execution_count": null,
   "metadata": {},
   "outputs": [],
   "source": [
    "print('MAX: %f' % data.Fare.max())\n",
    "print('MIN: %f' % data.Fare.min())\n",
    "print('AVE: %f' % data.Fare.mean())\n",
    "print('STD: %f' % data.Fare.std())"
   ]
  },
  {
   "cell_type": "markdown",
   "metadata": {},
   "source": [
    "## 条件で絞り込む\n",
    "\n",
    "### 無賃乗船した人を絞り込む"
   ]
  },
  {
   "cell_type": "code",
   "execution_count": null,
   "metadata": {},
   "outputs": [],
   "source": [
    "data_filtered = data[data.Fare == 0]\n",
    "display(data_filtered[:3])\n",
    "print(len(data_filtered))"
   ]
  },
  {
   "cell_type": "markdown",
   "metadata": {},
   "source": [
    "### 年齢が20歳以下の人だけを絞り込む"
   ]
  },
  {
   "cell_type": "code",
   "execution_count": null,
   "metadata": {},
   "outputs": [],
   "source": [
    "data_filtered = data[data.Age < 20]\n",
    "display(data_filtered[:3])\n",
    "print len(data_filtered)"
   ]
  },
  {
   "cell_type": "markdown",
   "metadata": {},
   "source": [
    "### 年齢が60歳以上かつ生存者だけを絞り込む"
   ]
  },
  {
   "cell_type": "code",
   "execution_count": null,
   "metadata": {},
   "outputs": [],
   "source": [
    "data_filtered = data[(data.Age > 60) & (data.Survived == 1)]\n",
    "display(data_filtered[:3])\n",
    "print(len(data_filtered))"
   ]
  },
  {
   "cell_type": "markdown",
   "metadata": {},
   "source": [
    "## データの編集\n",
    "\n",
    "年齢層別の生存率を調べてみる。１０歳ずつ年齢層を区切ることにし、新しく AgeRange という列を追加する。"
   ]
  },
  {
   "cell_type": "code",
   "execution_count": null,
   "metadata": {},
   "outputs": [],
   "source": [
    "data['AgeRange'] = data.Age // 10  # \"//\"は切り捨て付きの除算。あまりは切り捨てられ結果が整数で返る\n",
    "display(data[:3])"
   ]
  },
  {
   "cell_type": "markdown",
   "metadata": {},
   "source": [
    "AgeRangeでデータをグルーピングする"
   ]
  },
  {
   "cell_type": "code",
   "execution_count": null,
   "metadata": {},
   "outputs": [],
   "source": [
    "# ここ説明不足\n",
    "display(data.groupby('AgeRange')[['Survived']].agg(['mean', 'count']))"
   ]
  },
  {
   "cell_type": "markdown",
   "metadata": {},
   "source": [
    "子供の生存率が高いことがわかる。\n",
    "\n",
    "これは子供から優先的に避難させられたため。同様の理由で女性の生存率も高い?"
   ]
  },
  {
   "cell_type": "code",
   "execution_count": null,
   "metadata": {
    "scrolled": true
   },
   "outputs": [],
   "source": [
    "display(data.groupby('Sex')[['Survived']].agg(['mean', 'count']))"
   ]
  },
  {
   "cell_type": "markdown",
   "metadata": {},
   "source": [
    "## データの正規化\n",
    "\n",
    "### 欠損値の削除\n",
    "\n",
    "- データには欠損値がつきものなので、コレを前処理の段階で取り除くなどする必要がある。"
   ]
  },
  {
   "cell_type": "markdown",
   "metadata": {},
   "source": [
    "各列について、欠損がいくつ含まれているか調べる\n",
    "\n",
    "<img src=\"figure/nan_0.png\", width=600>"
   ]
  },
  {
   "cell_type": "code",
   "execution_count": null,
   "metadata": {},
   "outputs": [],
   "source": [
    "# isnull(): 値が欠損値（NaN）の場合、true (1) を返す。\n",
    "\n",
    "result = data.isnull().sum(axis=0)\n",
    "\n",
    "display(result.to_frame())  # 表形式で綺麗に表示するためのもの。"
   ]
  },
  {
   "cell_type": "markdown",
   "metadata": {},
   "source": [
    "欠損を1つ以上含むサンプルの数を調べる\n",
    "\n",
    "<img src=\"figure/nan_1.png\", width=600>"
   ]
  },
  {
   "cell_type": "code",
   "execution_count": null,
   "metadata": {},
   "outputs": [],
   "source": [
    "# any(): 行、または列に1つ以上、値が含まれている場合 true (1) を返す。\n",
    "\n",
    "print(data.isnull().any(axis=1).sum())"
   ]
  },
  {
   "cell_type": "markdown",
   "metadata": {},
   "source": [
    "全サンプル891件中708件について欠損が含まれているため、欠損を含むサンプルを捨ててしまうと、ほとんどすべてのサンプルが捨てられてしまう。\n",
    "\n",
    "今回はCabinの列は大半が欠損値なので、列ごと削除してしまう。\n",
    "\n",
    "AgeRangeの列もとりあえず削除。"
   ]
  },
  {
   "cell_type": "code",
   "execution_count": null,
   "metadata": {},
   "outputs": [],
   "source": [
    "del(data['Cabin'])\n",
    "del(data['AgeRange'])\n",
    "display(data[:3])"
   ]
  },
  {
   "cell_type": "markdown",
   "metadata": {},
   "source": [
    "Ageについては、とりあえず **-1** をセットしておく"
   ]
  },
  {
   "cell_type": "code",
   "execution_count": null,
   "metadata": {},
   "outputs": [],
   "source": [
    "# すでに存在する列のデータを書き換える場合は loc[row, col] を使う\n",
    "data.loc[data.Age.isnull(), 'Age'] = -1"
   ]
  },
  {
   "cell_type": "markdown",
   "metadata": {},
   "source": [
    "Embarkedについては欠損値を含むサンプルが少ないので、欠損値を含むサンプルを捨ててしまう。"
   ]
  },
  {
   "cell_type": "code",
   "execution_count": null,
   "metadata": {
    "collapsed": true
   },
   "outputs": [],
   "source": [
    "data = data.dropna(axis=0)"
   ]
  },
  {
   "cell_type": "markdown",
   "metadata": {},
   "source": [
    "全ての欠損が消えていることを確認"
   ]
  },
  {
   "cell_type": "code",
   "execution_count": null,
   "metadata": {},
   "outputs": [],
   "source": [
    "result = data.isnull().sum(axis=0)\n",
    "\n",
    "display(result.to_frame())  # 表形式で綺麗に表示するためのもの。"
   ]
  },
  {
   "cell_type": "markdown",
   "metadata": {
    "collapsed": true
   },
   "source": [
    "## numpyの行列に変換する\n",
    "\n",
    "統計モデルで扱うために、numpyの行列に変換する"
   ]
  },
  {
   "cell_type": "code",
   "execution_count": null,
   "metadata": {},
   "outputs": [],
   "source": [
    "# 数値の列だけ取り出す。\n",
    "mat = data[['PassengerId', 'Survived', 'Pclass', 'Age', 'SibSp', 'Parch' , 'Fare']].as_matrix()\n",
    "\n",
    "print(mat)"
   ]
  },
  {
   "cell_type": "code",
   "execution_count": null,
   "metadata": {
    "collapsed": true
   },
   "outputs": [],
   "source": []
  }
 ],
 "metadata": {
  "kernelspec": {
   "display_name": "Python 3",
   "language": "python",
   "name": "python3"
  },
  "language_info": {
   "codemirror_mode": {
    "name": "ipython",
    "version": 3
   },
   "file_extension": ".py",
   "mimetype": "text/x-python",
   "name": "python",
   "nbconvert_exporter": "python",
   "pygments_lexer": "ipython3",
   "version": "3.5.3"
  }
 },
 "nbformat": 4,
 "nbformat_minor": 1
}
