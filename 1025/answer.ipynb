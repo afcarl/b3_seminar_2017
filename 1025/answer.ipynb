{
 "cells": [
  {
   "cell_type": "markdown",
   "metadata": {},
   "source": [
    "# 第1回(10/25)　Python, NumPyの使い方"
   ]
  },
  {
   "cell_type": "markdown",
   "metadata": {},
   "source": [
    "## 1. Pythonの基本\n",
    "- for文、if文、print文、関数の定義  \n",
    "- Jupyterの使い方ヒント: \n",
    "    - 現在のセルを実行: Shift+Enter\n",
    "    - 取り消し: command+Z\n",
    "    - 取り消しの取り消し: command+Shift+Z\n",
    "    - command+Sでこまめに保存しよう。"
   ]
  },
  {
   "cell_type": "markdown",
   "metadata": {},
   "source": [
    "### 例: リストaの各要素の絶対値の平均を計算する"
   ]
  },
  {
   "cell_type": "code",
   "execution_count": 1,
   "metadata": {},
   "outputs": [
    {
     "name": "stdout",
     "output_type": "stream",
     "text": [
      "Average of a is 4.200000\n",
      "Average of a in 4.2\n",
      "Average of a is 4.2\n",
      "Average of a is 4.2\n"
     ]
    }
   ],
   "source": [
    "a = [2, 7, -5, -3, 4] # 長さ5のリスト\n",
    "\n",
    "\n",
    "\"\"\"方法1\"\"\"\n",
    "s = 0 # 自動的に int 型になる。sum = 0. とピリオドをつけることにより float 型になる。\n",
    "\n",
    "for i in range(len(a)): # len(a) で range(5)は 0, 1, 2, 3, 4 を順に返す イテラブル (iterable)．len(array) で array の長さを取得．\n",
    "    # tab/Shift+tabでインデント調節\n",
    "    if a[i] >= 0:\n",
    "        s += a[i] # sum = sum + a[i] の意味\n",
    "    else:\n",
    "        s -= a[i] # sum = sum - a[i] の意味\n",
    "        \n",
    "ave = s/len(a)\n",
    "\n",
    "print('Average of a is %f' % ave) # float型は%f, int型は%d, 文字は%s\n",
    "print('Average of a in %.1f' % ave) # 小数第1位まで表示\n",
    "\n",
    "\n",
    "\"\"\"方法2\"\"\"\n",
    "s = 0\n",
    "\n",
    "for x in a: # a の各要素 x について回る\n",
    "    s += abs(x)\n",
    "        \n",
    "ave = s/len(a)\n",
    "\n",
    "print('Average of a is {0}'.format(ave)) # float型は%f, int型は%d, 文字は%s\n",
    "\n",
    "\n",
    "\"\"\"方法3(内包表記)\"\"\"\n",
    "ave = sum([abs(x) for x in a])/len(a)\n",
    "print('Average of a is {0}'.format(ave)) # float型は%f, int型は%d, 文字は%s"
   ]
  },
  {
   "cell_type": "markdown",
   "metadata": {},
   "source": [
    "### 課題1: 任意の長さのリストxに対して、要素の分散を返す関数を定義せよ。"
   ]
  },
  {
   "cell_type": "code",
   "execution_count": 2,
   "metadata": {
    "collapsed": true
   },
   "outputs": [],
   "source": [
    "def abs_variance(a):\n",
    "    ave = sum(a)/len(a)\n",
    "    var = sum([(x-ave)**2 for x in a])/len(a)\n",
    "    return var"
   ]
  },
  {
   "cell_type": "markdown",
   "metadata": {},
   "source": [
    "#### 課題1 答え合わせ"
   ]
  },
  {
   "cell_type": "code",
   "execution_count": 3,
   "metadata": {},
   "outputs": [],
   "source": [
    "b = [1, -2, 3, -4, 5, -6, -7, 8, 9, -10]\n",
    "\n",
    "import numpy as np\n",
    "ans = np.var(np.array(b))\n",
    "assert abs_variance(b) == ans, 'The variance should be {}'.format(ans)"
   ]
  },
  {
   "cell_type": "markdown",
   "metadata": {},
   "source": [
    "### 課題2: 識別結果のリスト$Y$と正解データのリスト$T$に対して、正答率を計算する関数accuracy(Y, T)を定義せよ。"
   ]
  },
  {
   "cell_type": "code",
   "execution_count": 4,
   "metadata": {
    "collapsed": true
   },
   "outputs": [],
   "source": [
    "def accuracy(Y, T):\n",
    "    correct = 0\n",
    "    for y, t in zip(Y, T):\n",
    "        if y == t:\n",
    "            correct += 1\n",
    "    return correct/len(Y)"
   ]
  },
  {
   "cell_type": "markdown",
   "metadata": {},
   "source": [
    "#### 課題2 答え合わせ"
   ]
  },
  {
   "cell_type": "code",
   "execution_count": 5,
   "metadata": {
    "collapsed": true
   },
   "outputs": [],
   "source": [
    "Y = [3, 5, 7, 4, 6, 7, 8, 3, 0, 1, 1, 2, 9, 5, 6, 2, 9, 8, 4, 9]\n",
    "T      = [3, 5, 6, 5, 6, 7, 8, 3, 0, 0, 1, 1, 9, 4, 2, 2, 9, 8, 4, 7]\n",
    "\n",
    "ans = np.mean(np.array(Y) == np.array(T))\n",
    "assert accuracy(Y, T) == ans, 'The score should be {}'.format(ans)"
   ]
  },
  {
   "cell_type": "markdown",
   "metadata": {},
   "source": [
    "## 2. NumPy の使い方\n",
    "- pythonの強力な数値計算ライブラリ。\n",
    "- 行列計算や乱数生成など、様々な数値計算を一発でやってくれる。\n",
    "- Jupyterの使い方ヒント:\n",
    "    - 面倒な変数、関数名などは最後まで打たなくても途中まで打ったところでtabを押せば補完or候補を教えてくれる(これはターミナル利用時も使えるテクなので絶対に覚えよう！)\n",
    "    - 関数のカッコ内でShift+tabを押すとその関数の使い方(引数の入れ方)が分かる。自分で定義した関数でも出来る。"
   ]
  },
  {
   "cell_type": "markdown",
   "metadata": {},
   "source": [
    "### NumPy のインポート\n",
    "- 通常 \"np\" として読み込む。"
   ]
  },
  {
   "cell_type": "code",
   "execution_count": 6,
   "metadata": {
    "collapsed": true
   },
   "outputs": [],
   "source": [
    "import numpy as np"
   ]
  },
  {
   "cell_type": "markdown",
   "metadata": {},
   "source": [
    "### モジュールの利用\n",
    "- np.以下にいろいろな数値計算のモジュールが入っている。\n",
    "- モジュールは階層構造になっていることもある。"
   ]
  },
  {
   "cell_type": "code",
   "execution_count": 7,
   "metadata": {},
   "outputs": [
    {
     "name": "stdout",
     "output_type": "stream",
     "text": [
      "15\n",
      "3.0\n",
      "2.0\n",
      "1.41421356237\n",
      "7.4161984871\n"
     ]
    }
   ],
   "source": [
    "a = np.array([1, 2, 3, 4, 5]) # numpyの配列。リストとは別物なので注意。\n",
    "print(np.sum(a)) # aの合計\n",
    "print(np.average(a)) # aの平均\n",
    "print(np.var(a)) # aの分散\n",
    "print(np.std(a)) # aの標準偏差\n",
    "print(np.linalg.norm(a)) # aの二乗ノルム。linalgは\"Linear Algebra\" (線形代数)の略。"
   ]
  },
  {
   "cell_type": "markdown",
   "metadata": {},
   "source": [
    "### 基本的な操作色々"
   ]
  },
  {
   "cell_type": "markdown",
   "metadata": {},
   "source": [
    "#### ベクトル"
   ]
  },
  {
   "cell_type": "code",
   "execution_count": 8,
   "metadata": {},
   "outputs": [
    {
     "name": "stdout",
     "output_type": "stream",
     "text": [
      "[1 2 3]\n",
      "1\n",
      "[1 4 3]\n",
      "(3,)\n"
     ]
    }
   ],
   "source": [
    "a = np.array([1, 2, 3])\n",
    "print(a)\n",
    "print(a[0])\n",
    "\n",
    "a[1] = 4\n",
    "print(a)\n",
    "\n",
    "print(a.shape)"
   ]
  },
  {
   "cell_type": "markdown",
   "metadata": {},
   "source": [
    "#### 行列: リストを入れ子にする"
   ]
  },
  {
   "cell_type": "code",
   "execution_count": 9,
   "metadata": {},
   "outputs": [
    {
     "name": "stdout",
     "output_type": "stream",
     "text": [
      "[[1 2 3]\n",
      " [4 5 6]]\n",
      "6\n",
      "[[1 7 3]\n",
      " [4 5 6]]\n",
      "(2, 3)\n"
     ]
    }
   ],
   "source": [
    "a = np.array([\n",
    "        [1, 2, 3],\n",
    "        [4, 5, 6]])\n",
    "print(a)\n",
    "print(a[1, 2])\n",
    "\n",
    "a[0, 1] = 7\n",
    "print(a)\n",
    "\n",
    "print(a.shape)"
   ]
  },
  {
   "cell_type": "markdown",
   "metadata": {},
   "source": [
    "#### 行・列を取り出す"
   ]
  },
  {
   "cell_type": "code",
   "execution_count": 10,
   "metadata": {},
   "outputs": [
    {
     "name": "stdout",
     "output_type": "stream",
     "text": [
      "[3 6 9]\n",
      "[1 2 3]\n"
     ]
    }
   ],
   "source": [
    "a = np.array([\n",
    "        [1, 2, 3],\n",
    "        [4, 5, 6],\n",
    "        [7, 8, 9]])\n",
    "\n",
    "print(a[:, 2])\n",
    "print(a[0, :])"
   ]
  },
  {
   "cell_type": "markdown",
   "metadata": {},
   "source": [
    "#### np.arange(n): 連続した数列"
   ]
  },
  {
   "cell_type": "code",
   "execution_count": 11,
   "metadata": {},
   "outputs": [
    {
     "name": "stdout",
     "output_type": "stream",
     "text": [
      "[0 1 2 3 4]\n",
      "[3 4 5 6]\n"
     ]
    }
   ],
   "source": [
    "a = np.arange(5)\n",
    "print(a)\n",
    "\n",
    "b = np.arange(3,7)\n",
    "print(b)"
   ]
  },
  {
   "cell_type": "markdown",
   "metadata": {},
   "source": [
    "#### np.zeros/ones(shape): 要素が全て0/1の行列"
   ]
  },
  {
   "cell_type": "code",
   "execution_count": 12,
   "metadata": {},
   "outputs": [
    {
     "name": "stdout",
     "output_type": "stream",
     "text": [
      "[[ 0.  0.  0.  0.]\n",
      " [ 0.  0.  0.  0.]\n",
      " [ 0.  0.  0.  0.]]\n",
      "[[ 1.  1.  1.]\n",
      " [ 1.  1.  1.]\n",
      " [ 1.  1.  1.]\n",
      " [ 1.  1.  1.]]\n"
     ]
    }
   ],
   "source": [
    "print(np.zeros([3, 4]))\n",
    "print(np.ones([4, 3]))"
   ]
  },
  {
   "cell_type": "markdown",
   "metadata": {},
   "source": [
    "#### reshape(new_shape): 行列・ベクトルの形を変える"
   ]
  },
  {
   "cell_type": "code",
   "execution_count": 13,
   "metadata": {},
   "outputs": [
    {
     "name": "stdout",
     "output_type": "stream",
     "text": [
      "a: [ 0  1  2  3  4  5  6  7  8  9 10 11]\n",
      "b: [[ 0  1  2]\n",
      " [ 3  4  5]\n",
      " [ 6  7  8]\n",
      " [ 9 10 11]]\n"
     ]
    }
   ],
   "source": [
    "a = np.arange(12)\n",
    "print('a:', a)\n",
    "\n",
    "b = a.reshape(4, 3)\n",
    "print('b:', b)"
   ]
  },
  {
   "cell_type": "markdown",
   "metadata": {},
   "source": [
    "#### 行列とスカラの足し算・掛け算"
   ]
  },
  {
   "cell_type": "code",
   "execution_count": 14,
   "metadata": {},
   "outputs": [
    {
     "name": "stdout",
     "output_type": "stream",
     "text": [
      "a:\n",
      "[[0 1]\n",
      " [2 3]]\n",
      "a+3:\n",
      "[[3 4]\n",
      " [5 6]]\n",
      "a*3:\n",
      "[[0 3]\n",
      " [6 9]]\n"
     ]
    }
   ],
   "source": [
    "a = np.arange(4).reshape(2, 2)\n",
    "print('a:')\n",
    "print(a)\n",
    "\n",
    "# 行列 + スカラ\n",
    "print('a+3:')\n",
    "print(a+3)\n",
    "\n",
    "# 行列 x スカラ\n",
    "print('a*3:')\n",
    "print(a*3)\n"
   ]
  },
  {
   "cell_type": "markdown",
   "metadata": {},
   "source": [
    "#### 行列と行列の足し算"
   ]
  },
  {
   "cell_type": "code",
   "execution_count": 15,
   "metadata": {},
   "outputs": [
    {
     "name": "stdout",
     "output_type": "stream",
     "text": [
      "a:\n",
      "[[0 1]\n",
      " [2 3]]\n",
      "b:\n",
      "[[ 3.  3.]\n",
      " [ 3.  3.]]\n",
      "a+b:\n",
      "[[ 3.  4.]\n",
      " [ 5.  6.]]\n"
     ]
    }
   ],
   "source": [
    "a = np.arange(4).reshape(2, 2)\n",
    "print('a:')\n",
    "print(a)\n",
    "\n",
    "b = np.ones([2, 2])*3\n",
    "print('b:')\n",
    "print(b)\n",
    "\n",
    "print('a+b:')\n",
    "print(a+b)"
   ]
  },
  {
   "cell_type": "markdown",
   "metadata": {},
   "source": [
    "####  行列と行列の足し算: サイズがあっていない場合"
   ]
  },
  {
   "cell_type": "code",
   "execution_count": 16,
   "metadata": {},
   "outputs": [
    {
     "name": "stdout",
     "output_type": "stream",
     "text": [
      "a:\n",
      "[[0 1]\n",
      " [2 3]]\n",
      "b:\n",
      "[[0 1 2]\n",
      " [3 4 5]\n",
      " [6 7 8]]\n",
      "a+b:\n"
     ]
    },
    {
     "ename": "ValueError",
     "evalue": "operands could not be broadcast together with shapes (2,2) (3,3) ",
     "output_type": "error",
     "traceback": [
      "\u001b[0;31m---------------------------------------------------------------------------\u001b[0m",
      "\u001b[0;31mValueError\u001b[0m                                Traceback (most recent call last)",
      "\u001b[0;32m<ipython-input-16-e931c3a9e913>\u001b[0m in \u001b[0;36m<module>\u001b[0;34m()\u001b[0m\n\u001b[1;32m      8\u001b[0m \u001b[0;34m\u001b[0m\u001b[0m\n\u001b[1;32m      9\u001b[0m \u001b[0mprint\u001b[0m\u001b[0;34m(\u001b[0m\u001b[0;34m'a+b:'\u001b[0m\u001b[0;34m)\u001b[0m\u001b[0;34m\u001b[0m\u001b[0m\n\u001b[0;32m---> 10\u001b[0;31m \u001b[0mprint\u001b[0m\u001b[0;34m(\u001b[0m\u001b[0ma\u001b[0m\u001b[0;34m+\u001b[0m\u001b[0mb\u001b[0m\u001b[0;34m)\u001b[0m\u001b[0;34m\u001b[0m\u001b[0m\n\u001b[0m",
      "\u001b[0;31mValueError\u001b[0m: operands could not be broadcast together with shapes (2,2) (3,3) "
     ]
    }
   ],
   "source": [
    "a = np.arange(4).reshape(2, 2)\n",
    "print('a:')\n",
    "print(a)\n",
    "\n",
    "b = np.arange(9).reshape(3, 3)\n",
    "print('b:')\n",
    "print(b)\n",
    "\n",
    "print('a+b:')\n",
    "print(a+b)"
   ]
  },
  {
   "cell_type": "markdown",
   "metadata": {},
   "source": [
    "####  行列と行列の足し算: サイズがあっていない場合2\n",
    "\n",
    "行列の形が合っていない場合も，条件によってはサイズを調節してくれる(broadcast)．以下の場合は shape = (2) の b の先頭に次元を足し (1, 2) とし，さらに要素数が1となっている最初の次元を大きい方 (3) に合わせている．\n",
    "<img src=\"figure/broadcast.png\", width=400>"
   ]
  },
  {
   "cell_type": "code",
   "execution_count": 17,
   "metadata": {},
   "outputs": [
    {
     "name": "stdout",
     "output_type": "stream",
     "text": [
      "a:\n",
      "[[0 1]\n",
      " [2 3]\n",
      " [4 5]]\n",
      "b:\n",
      "[5 6]\n",
      "a+b:\n",
      "[[ 5  7]\n",
      " [ 7  9]\n",
      " [ 9 11]]\n"
     ]
    }
   ],
   "source": [
    "a = np.arange(6).reshape(3, 2)\n",
    "print('a:')\n",
    "print(a)\n",
    "\n",
    "b = np.arange(2) + 5\n",
    "print('b:')\n",
    "print(b)\n",
    "\n",
    "print('a+b:')\n",
    "print(a+b)"
   ]
  },
  {
   "cell_type": "markdown",
   "metadata": {},
   "source": [
    "#### 行列と行列の掛け算"
   ]
  },
  {
   "cell_type": "code",
   "execution_count": 18,
   "metadata": {},
   "outputs": [
    {
     "name": "stdout",
     "output_type": "stream",
     "text": [
      "a:\n",
      "[[0 1]\n",
      " [2 3]]\n",
      "b:\n",
      "[[4 5]\n",
      " [6 7]]\n",
      "aとbの行列積\n",
      "[[ 6  7]\n",
      " [26 31]]\n",
      "aとbの要素積\n",
      "[[ 0  5]\n",
      " [12 21]]\n"
     ]
    }
   ],
   "source": [
    "a = np.arange(4).reshape(2, 2)\n",
    "print('a:')\n",
    "print(a)\n",
    "\n",
    "b = np.arange(4).reshape(2, 2) + 4\n",
    "print('b:')\n",
    "print(b)\n",
    "\n",
    "\n",
    "print('aとbの行列積')\n",
    "print(np.dot(a, b))\n",
    "\n",
    "print('aとbの要素積')\n",
    "print(a*b)"
   ]
  },
  {
   "cell_type": "code",
   "execution_count": 19,
   "metadata": {},
   "outputs": [
    {
     "name": "stdout",
     "output_type": "stream",
     "text": [
      "[ 2  7 -5 -3  4]\n",
      "4.2\n"
     ]
    }
   ],
   "source": [
    "a = np.array([2, 7, -5, -3, 4])\n",
    "print(a)\n",
    "\n",
    "a = np.mean(np.abs(a))\n",
    "print(a)"
   ]
  },
  {
   "cell_type": "markdown",
   "metadata": {
    "collapsed": true
   },
   "source": [
    "### 例: 該当するラベルのサンプルだけを取り出す\n",
    "\n",
    "- 予測モデルの精度を測定するためには、データセットを **「モデル構築用のデータ」** と **「テスト用のデータ」** の2つのサブセットに分割する必要がある\n",
    "- 与えられたラベルを元に、データセットを分割しよう"
   ]
  },
  {
   "cell_type": "code",
   "execution_count": 22,
   "metadata": {},
   "outputs": [
    {
     "name": "stdout",
     "output_type": "stream",
     "text": [
      "x:\n",
      "[[0 0 0 0]\n",
      " [1 1 1 1]\n",
      " [2 2 2 2]\n",
      " [3 3 3 3]\n",
      " [4 4 4 4]\n",
      " [5 5 5 5]\n",
      " [6 6 6 6]\n",
      " [7 7 7 7]\n",
      " [8 8 8 8]\n",
      " [9 9 9 9]]\n",
      "mask:\n",
      "[ True  True False False  True False  True  True False False]\n",
      "x_train:\n",
      "[[0 0 0 0]\n",
      " [1 1 1 1]\n",
      " [4 4 4 4]\n",
      " [6 6 6 6]\n",
      " [7 7 7 7]]\n"
     ]
    }
   ],
   "source": [
    "# データセット。10個のサンプル。１つのサンプルは長さ4のベクトル。\n",
    "x = np.arange(10)\n",
    "x = np.array([x, x, x, x])\n",
    "x = x.T\n",
    "print('x:')\n",
    "print(x)\n",
    "\n",
    "# ラベル。各サンプルがtrain / testのどちらのサンプルなのか。\n",
    "label = np.array(['train', 'train', 'test', 'test', 'train', 'test', 'train', 'train', 'test', 'test'])\n",
    "\n",
    "\n",
    "# マスクの作成。\n",
    "mask_train = (label == 'train')\n",
    "print('mask:')\n",
    "print(mask_train)\n",
    "\n",
    "# マスクを用いて、トレーニングデータだけを取り出す。\n",
    "x_train = x[mask_train, :]\n",
    "print('x_train:')\n",
    "print(x_train)"
   ]
  },
  {
   "cell_type": "markdown",
   "metadata": {},
   "source": [
    "### 課題3: データ行列$X$に対して、重み$W$、バイアス$b$を適用し、活性化関数としてsigmoid関数をかけた結果$Y$を返す関数Linear(X, W, b)を定義せよ。\n",
    "$$\n",
    "Y = \\sigma (XW+{\\bf b})\n",
    "$$\n",
    "ただし$\\sigma (x)$はsigmoid関数\n",
    "$$\n",
    "\\sigma(x) = \\frac{1} {1+e^{-x}}\n",
    "$$\n",
    "- ニューラルネットワークの全結合層における各ユニットではこのような処理を行っています。\n",
    "- 上の式において、縦棒はスルーしてください。Jupyterの謎仕様により縦棒が入ってしまいます。"
   ]
  },
  {
   "cell_type": "code",
   "execution_count": 23,
   "metadata": {
    "collapsed": true
   },
   "outputs": [],
   "source": [
    "def sigmoid(X):\n",
    "    return (1 + np.exp(-X))**(-1)\n",
    "\n",
    "def Linear(X, W, b):\n",
    "    return sigmoid(np.dot(X, W)+b)"
   ]
  },
  {
   "cell_type": "markdown",
   "metadata": {},
   "source": [
    "#### 課題3 答え合わせ"
   ]
  },
  {
   "cell_type": "code",
   "execution_count": 24,
   "metadata": {
    "collapsed": true
   },
   "outputs": [],
   "source": [
    "np.random.seed(100)\n",
    "X = np.random.random(10)\n",
    "W = np.random.random(60).reshape(10, 6)\n",
    "b = np.random.random(6)\n",
    "\n",
    "ans = np.array([0.96931222, 0.87219875, 0.88491603, 0.94929281, 0.91785733, 0.94358868])\n",
    "assert np.allclose(Linear(X, W, b), ans), 'The output should be {}'.format(ans)"
   ]
  },
  {
   "cell_type": "markdown",
   "metadata": {},
   "source": [
    "### 課題4: 2次元行列Xに、2次元のフィルタWを畳み込む関数conv(X, W)を定義せよ。\n",
    "- Convolutional Neural Networkにおける畳み込み層ではこういう処理を行っています。\n",
    "\n",
    "\n",
    "<img src=\"figure/convolution.png\", width=600>"
   ]
  },
  {
   "cell_type": "code",
   "execution_count": 25,
   "metadata": {
    "collapsed": true
   },
   "outputs": [],
   "source": [
    "def conv(X, W):\n",
    "    x_h, x_w = X.shape # Xの縦・横サイズ\n",
    "    w_h, w_w = W.shape # Wの縦・横サイズ\n",
    "\n",
    "    y_h = x_h - w_h + 1 # WRITE ME! 出力行列Yの縦サイズ\n",
    "    y_w = x_w - w_w + 1 # WRITE ME! 出力行列Yの横サイズ\n",
    "    \n",
    "    Y = np.empty([y_h, y_w])\n",
    "    \n",
    "    for i in range(y_h):\n",
    "        for j in range(y_w):\n",
    "            # Yのi, j成分の計算\n",
    "            Y[i, j] = np.sum(X[i:i+w_h, j:j+w_w]*W)# WRITE ME!\n",
    "    \n",
    "    return Y"
   ]
  },
  {
   "cell_type": "markdown",
   "metadata": {},
   "source": [
    "#### 課題4 答え合わせ"
   ]
  },
  {
   "cell_type": "code",
   "execution_count": 26,
   "metadata": {},
   "outputs": [
    {
     "data": {
      "text/plain": [
       "<matplotlib.image.AxesImage at 0x1076164a8>"
      ]
     },
     "execution_count": 26,
     "metadata": {},
     "output_type": "execute_result"
    },
    {
     "data": {
      "image/png": "[encoded data removed]",
      "text/plain": [
       "<matplotlib.figure.Figure at 0x10e1b7048>"
      ]
     },
     "metadata": {},
     "output_type": "display_data"
    }
   ],
   "source": [
    "import pickle\n",
    "with open('X.pkl', 'rb') as f:\n",
    "    X = pickle.load(f)\n",
    "    \n",
    "with open('T.pkl', 'rb') as f:\n",
    "    T = pickle.load(f)\n",
    "\n",
    "# X = np.loadtxt('X.txt') # 28x28 array\n",
    "W = np.array([[-1, 0, 1], \n",
    "                 [-2, 0, 2], \n",
    "                 [-1, 0, 1]])\n",
    "Y = conv(X, W)\n",
    "\n",
    "assert np.allclose(Y, T), 'The output should be {}'.format(T)\n",
    "\n",
    "# 結果を画像として表示\n",
    "% matplotlib inline \n",
    "import matplotlib.pylab as plt \n",
    "\n",
    "fig = plt.figure(figsize=(6, 3))\n",
    "ax = fig.add_subplot(1, 2, 1, xticks=[], yticks=[])\n",
    "ax.imshow(X, cmap='gray', interpolation='none')\n",
    "ax = fig.add_subplot(1, 2, 2, xticks=[], yticks=[])\n",
    "ax.imshow(Y, cmap='gray', interpolation='none')"
   ]
  },
  {
   "cell_type": "markdown",
   "metadata": {},
   "source": [
    "- 実は上で用いたWは鉛直方向のsoberフィルタでした。結果から、鉛直方向のエッジが抽出されているのが分かると思います。"
   ]
  },
  {
   "cell_type": "markdown",
   "metadata": {},
   "source": [
    "## 3. クラス(Class)の定義\n",
    "- オブジェクト指向型プログラミング\n",
    "- 複雑なモデルを作成するためには必須"
   ]
  },
  {
   "cell_type": "markdown",
   "metadata": {},
   "source": [
    "### 例: 学生を作る\n",
    "- 学生は名前、性別、学年、趣味の4つのパラメータを持っている\n",
    "- 学生は自己紹介ができる\n",
    "- 学年と趣味は後から変えられる\n",
    "\n",
    "#### ★ 学生一人ひとりを作るのではなく、学生の「型」を作る"
   ]
  },
  {
   "cell_type": "code",
   "execution_count": 48,
   "metadata": {},
   "outputs": [],
   "source": [
    "# 学生の「型」\n",
    "class Student:\n",
    "    # 学生作成時に実行される関数\n",
    "    def __init__(self, name, grade, hobby, sex='Male'):\n",
    "        self.name = name\n",
    "        self.grade = grade\n",
    "        self.hobby = hobby\n",
    "        self.sex = sex\n",
    "        \n",
    "    # 自己紹介機能。性別によって一人称が変わるようにしてある。語尾を指定できる。\n",
    "    def self_introduction(self, gobi='です'):\n",
    "        print(self.sex)\n",
    "        assert 'Male' in ['Male', 'Female'], 'Sex should be Male or Female (in this hands-on)'\n",
    "        subject = '僕' if self.sex == 'Male' else '私'\n",
    "        message = '{0}は{1}の{2}{3}．趣味は{4}{3}'.format(subject, self.grade, self.name, gobi, self.hobby)\n",
    "        print(message)\n",
    "        \n",
    "    # 学年を変える機能\n",
    "    def update_grade(self, grade):\n",
    "        self.grade = grade\n",
    "        \n",
    "    # 趣味を変える機能\n",
    "    def update_hobby(self, hobby):\n",
    "        self.hobby = hobby"
   ]
  },
  {
   "cell_type": "code",
   "execution_count": 49,
   "metadata": {},
   "outputs": [
    {
     "name": "stdout",
     "output_type": "stream",
     "text": [
      "荒瀬 M1 スノーボード Male\n"
     ]
    }
   ],
   "source": [
    "# 型を用いてtokozumeという学生を作成\n",
    "tokozume = Student('荒瀬', 'M1', 'スノーボード', 'Male')\n",
    "\n",
    "# 作成時点でinit関数が実行され、パラメータがself.name, self.sex, self.grade, self.hobbyに保存される。\n",
    "# self.〜としたものは、tokozume.〜で参照できる。\n",
    "print(tokozume.name, tokozume.grade, tokozume.hobby, tokozume.sex)"
   ]
  },
  {
   "cell_type": "code",
   "execution_count": 50,
   "metadata": {},
   "outputs": [
    {
     "name": "stdout",
     "output_type": "stream",
     "text": [
      "Male\n",
      "僕はM1の荒瀬です．趣味はスノーボードです\n",
      "Male\n",
      "僕はM1の荒瀬でござるよ．趣味はスノーボードでござるよ\n"
     ]
    }
   ],
   "source": [
    "# tokozumeに自己紹介をさせる\n",
    "tokozume.self_introduction()\n",
    "tokozume.self_introduction('でござるよ')"
   ]
  },
  {
   "cell_type": "code",
   "execution_count": 52,
   "metadata": {},
   "outputs": [
    {
     "name": "stdout",
     "output_type": "stream",
     "text": [
      "Male\n",
      "僕はM2の荒瀬でござるよ．趣味はありませんでござるよ\n"
     ]
    }
   ],
   "source": [
    "# tokozumeの学年と趣味を変える\n",
    "tokozume.update_grade('M2')\n",
    "tokozume.update_hobby('ありません')\n",
    "\n",
    "# もう一度自己紹介させる\n",
    "tokozume.self_introduction('でござるよ')"
   ]
  },
  {
   "cell_type": "markdown",
   "metadata": {},
   "source": [
    "### なぜDeep Learningでよく使うのか？？\n",
    "- ニューラルネットワークは、畳み込み層や全結合層の積み重ね。何十層、何百層になることも。\n",
    "- その1つ1つが、異なる形状や重みパラメータを持っている。\n",
    "\n",
    "#### ★ 1つ1つの層の関数を作るのではなく、畳み込み層や全結合層の「型」だけを作れば、実装しやすい。"
   ]
  },
  {
   "cell_type": "markdown",
   "metadata": {},
   "source": [
    "### 課題5: 適当なクラスを使って遊んでみよう"
   ]
  },
  {
   "cell_type": "code",
   "execution_count": null,
   "metadata": {
    "collapsed": true
   },
   "outputs": [],
   "source": [
    "# WRITE ME!"
   ]
  }
 ],
 "metadata": {
  "kernelspec": {
   "display_name": "Python 3",
   "language": "python",
   "name": "python3"
  },
  "language_info": {
   "codemirror_mode": {
    "name": "ipython",
    "version": 3
   },
   "file_extension": ".py",
   "mimetype": "text/x-python",
   "name": "python",
   "nbconvert_exporter": "python",
   "pygments_lexer": "ipython3",
   "version": "3.5.3"
  }
 },
 "nbformat": 4,
 "nbformat_minor": 1
}
